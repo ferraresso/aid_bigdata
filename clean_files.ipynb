{
 "cells": [
  {
   "cell_type": "code",
   "execution_count": 7,
   "metadata": {},
   "outputs": [
    {
     "data": {
      "text/plain": [
       "['2015-07-28_mixed.before.infection.pcap',\n",
       " '2015-07-28_mixed.binetflow.after.desinfection',\n",
       " '2015-07-28_mixed.binetflow.after.desinfection_clean',\n",
       " '2015-07-28_mixed.binetflow.after.infection',\n",
       " '2015-07-28_mixed.binetflow.after.infection_clean',\n",
       " '2015-07-28_mixed.binetflow.before.infection',\n",
       " '2015-07-28_mixed.binetflow.before.infection_clean',\n",
       " '2015-07-28_mixed.pcap']"
      ]
     },
     "execution_count": 7,
     "metadata": {},
     "output_type": "execute_result"
    }
   ],
   "source": [
    "import os\n",
    "os.listdir('input')"
   ]
  },
  {
   "cell_type": "code",
   "execution_count": 8,
   "metadata": {},
   "outputs": [],
   "source": [
    "def find_all(s, c):\n",
    "    idx = s.find(c)\n",
    "    while idx != -1:\n",
    "        yield idx\n",
    "        idx = s.find(c, idx + 1)"
   ]
  },
  {
   "cell_type": "code",
   "execution_count": 30,
   "metadata": {},
   "outputs": [
    {
     "name": "stdout",
     "output_type": "stream",
     "text": [
      "2015-07-28_mixed.binetflow.after.desinfection\n"
     ]
    },
    {
     "name": "stderr",
     "output_type": "stream",
     "text": [
      "8629it [00:00, 25519.82it/s]\n"
     ]
    },
    {
     "name": "stdout",
     "output_type": "stream",
     "text": [
      "2015-07-28_mixed.binetflow.after.infection\n"
     ]
    },
    {
     "name": "stderr",
     "output_type": "stream",
     "text": [
      "29407it [00:01, 21677.03it/s]\n"
     ]
    },
    {
     "name": "stdout",
     "output_type": "stream",
     "text": [
      "2015-07-28_mixed.binetflow.before.infection\n"
     ]
    },
    {
     "name": "stderr",
     "output_type": "stream",
     "text": [
      "14337it [00:00, 26758.29it/s]\n"
     ]
    }
   ],
   "source": [
    "from tqdm import tqdm\n",
    "import os\n",
    "import re\n",
    "\n",
    "for file in os.listdir('input'):\n",
    "    if 'binetflow' in file and '_clean' not in file:\n",
    "        print(file)\n",
    "        f_in = open('input/'+file, 'r')\n",
    "        f_out = open('input/'+file+'_clean', 'w')\n",
    "        #para no perder el header\n",
    "        heads = f_in.readline()\n",
    "        f_out.write(heads)\n",
    "        for line in tqdm(f_in):\n",
    "            comas = list(find_all(line, ','))\n",
    "            while len(comas) > 14:\n",
    "                line = line[:comas[-2]] + line[comas[-2]+1:]\n",
    "                comas = list(find_all(line, ','))\n",
    "            match = re.search(r's\\[[0-9]+\\]\\=', line)\n",
    "            if match:\n",
    "                idx = match.start()\n",
    "                line = line[:idx-1] + ',' + line[idx:]\n",
    "\n",
    "            match = re.search(r'd\\[[0-9]+\\]\\=', line)\n",
    "            if match:\n",
    "                idx = match.start()\n",
    "                line = line[:idx-1] + ',' + line[idx:]\n",
    "\n",
    "            f_out.write(line)\n",
    "        f_out.close()\n",
    "        f_in.close()"
   ]
  },
  {
   "cell_type": "code",
   "execution_count": 24,
   "metadata": {},
   "outputs": [
    {
     "data": {
      "text/plain": [
       "10"
      ]
     },
     "execution_count": 24,
     "metadata": {},
     "output_type": "execute_result"
    }
   ],
   "source": [
    "re.search(r's\\[[0-9]+\\]\\=', '2131231231s[1]=dsadasdasdas').start()"
   ]
  }
 ],
 "metadata": {
  "kernelspec": {
   "display_name": "Python 3",
   "language": "python",
   "name": "python3"
  },
  "language_info": {
   "codemirror_mode": {
    "name": "ipython",
    "version": 3
   },
   "file_extension": ".py",
   "mimetype": "text/x-python",
   "name": "python",
   "nbconvert_exporter": "python",
   "pygments_lexer": "ipython3",
   "version": "3.5.2"
  }
 },
 "nbformat": 4,
 "nbformat_minor": 2
}
