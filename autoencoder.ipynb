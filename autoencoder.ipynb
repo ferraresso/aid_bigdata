{
 "cells": [
  {
   "cell_type": "code",
   "execution_count": 2,
   "metadata": {},
   "outputs": [
    {
     "name": "stderr",
     "output_type": "stream",
     "text": [
      "c:\\users\\aferraresso\\appdata\\local\\programs\\python\\python35\\lib\\site-packages\\h5py\\__init__.py:36: FutureWarning: Conversion of the second argument of issubdtype from `float` to `np.floating` is deprecated. In future, it will be treated as `np.float64 == np.dtype(float).type`.\n",
      "  from ._conv import register_converters as _register_converters\n",
      "Using TensorFlow backend.\n"
     ]
    }
   ],
   "source": [
    "import os\n",
    "os.environ['CUDA_VISIBLE_DEVICES']='-1'    \n",
    "\n",
    "import pandas as pd\n",
    "import numpy as np\n",
    "import sklearn.preprocessing as p\n",
    "import sklearn.metrics as metrics\n",
    "from sklearn.model_selection import train_test_split\n",
    "import keras.layers as l\n",
    "from keras.models import Sequential"
   ]
  },
  {
   "cell_type": "code",
   "execution_count": 3,
   "metadata": {},
   "outputs": [
    {
     "data": {
      "text/plain": [
       "(14337, 55)"
      ]
     },
     "execution_count": 3,
     "metadata": {},
     "output_type": "execute_result"
    }
   ],
   "source": [
    "data = pd.read_csv('input/data_before_direct.csv', parse_dates=['start_time']).sort_values('start_time').fillna(0)\n",
    "\n",
    "data.shape"
   ]
  },
  {
   "cell_type": "code",
   "execution_count": 4,
   "metadata": {},
   "outputs": [
    {
     "data": {
      "text/plain": [
       "(Timestamp('2015-07-25 17:51:36.806330'),\n",
       " Timestamp('2015-07-26 14:40:52.280043'))"
      ]
     },
     "execution_count": 4,
     "metadata": {},
     "output_type": "execute_result"
    }
   ],
   "source": [
    "data.start_time.min(), data.start_time.max() "
   ]
  },
  {
   "cell_type": "code",
   "execution_count": 5,
   "metadata": {},
   "outputs": [],
   "source": [
    "import datetime\n",
    "corte = datetime.datetime.strptime('2015-07-26 13:35', '%Y-%m-%d %H:%M')"
   ]
  },
  {
   "cell_type": "code",
   "execution_count": 6,
   "metadata": {},
   "outputs": [
    {
     "name": "stdout",
     "output_type": "stream",
     "text": [
      "(11073, 55)\n",
      "(3264, 55)\n"
     ]
    }
   ],
   "source": [
    "train_data = data[data.start_time < corte]\n",
    "test_data = data[data.start_time > corte]\n",
    "print(train_data.shape)\n",
    "print(test_data.shape)"
   ]
  },
  {
   "cell_type": "code",
   "execution_count": 7,
   "metadata": {},
   "outputs": [],
   "source": [
    "labels = [c for c in data.columns if 'mode' in c]\n",
    "num_cols = [c for c in data.columns if c not in labels and c not in ['start_time']]"
   ]
  },
  {
   "cell_type": "code",
   "execution_count": 8,
   "metadata": {},
   "outputs": [
    {
     "name": "stdout",
     "output_type": "stream",
     "text": [
      "(11073, 48)\n",
      "(3264, 48)\n"
     ]
    }
   ],
   "source": [
    "scaler = p.StandardScaler()\n",
    "scaler.fit(data[num_cols])\n",
    "\n",
    "train_x = scaler.transform(train_data[num_cols])\n",
    "test_x = scaler.transform(test_data[num_cols])\n",
    "\n",
    "print(train_x.shape)\n",
    "print(test_x.shape)"
   ]
  },
  {
   "cell_type": "code",
   "execution_count": 15,
   "metadata": {},
   "outputs": [
    {
     "name": "stdout",
     "output_type": "stream",
     "text": [
      "_________________________________________________________________\n",
      "Layer (type)                 Output Shape              Param #   \n",
      "=================================================================\n",
      "hidden_in (Dense)            (None, 40)                1960      \n",
      "_________________________________________________________________\n",
      "bottleneck (Dense)           (None, 30)                1230      \n",
      "_________________________________________________________________\n",
      "hidden_out (Dense)           (None, 40)                1240      \n",
      "_________________________________________________________________\n",
      "output (Dense)               (None, 48)                1968      \n",
      "=================================================================\n",
      "Total params: 6,398\n",
      "Trainable params: 6,398\n",
      "Non-trainable params: 0\n",
      "_________________________________________________________________\n"
     ]
    }
   ],
   "source": [
    "model = Sequential()\n",
    "model.add(l.Dense(40, input_shape=(train_x.shape[1],), name='hidden_in', activation='relu'))\n",
    "# model.add(l.Dropout(0.1))\n",
    "# model.add(l.Dense(80, activation='relu'))\n",
    "# model.add(l.Dropout(0.1))\n",
    "model.add(l.Dense(30, name='bottleneck', activation='linear'))\n",
    "model.add(l.Dense(40, name='hidden_out', activation='relu'))\n",
    "# model.add(l.Dense(100, activation='relu'))\n",
    "model.add(l.Dense(train_x.shape[1], name='output', activation='linear'))\n",
    "model.compile(optimizer='adam', loss='mse')\n",
    "\n",
    "model.summary()"
   ]
  },
  {
   "cell_type": "code",
   "execution_count": 16,
   "metadata": {},
   "outputs": [],
   "source": [
    "import matplotlib.pyplot as plt\n",
    "%matplotlib inline\n",
    "plt.rcParams['axes.edgecolor']='black'\n",
    "plt.rcParams['axes.facecolor']='white'\n",
    "plt.rcParams['figure.facecolor']='white'\n",
    "def plotit(history, min_epoch=0, show_all=True):\n",
    "    legends = []\n",
    "    if show_all:\n",
    "        for val in history.history:\n",
    "            plt.plot(history.history[val][min_epoch:])\n",
    "            legends.append(val)\n",
    "    else:\n",
    "        plt.plot(history.history['loss'][min_epoch:])\n",
    "        plt.plot(history.history['val_loss'][min_epoch:])\n",
    "        legends = ['loss']\n",
    "    plt.title('MSE del modelo')\n",
    "    plt.ylabel('MSE')\n",
    "    plt.xlabel('epoch')\n",
    "    plt.legend(legends, loc='upper left')\n",
    "    plt.show()"
   ]
  },
  {
   "cell_type": "code",
   "execution_count": 17,
   "metadata": {
    "scrolled": true
   },
   "outputs": [
    {
     "name": "stdout",
     "output_type": "stream",
     "text": [
      "Train on 11073 samples, validate on 3264 samples\n",
      "Epoch 1/200\n",
      "11073/11073 [==============================] - 1s 60us/step - loss: 0.9782 - val_loss: 0.4973\n",
      "Epoch 2/200\n",
      "11073/11073 [==============================] - 0s 9us/step - loss: 0.7074 - val_loss: 0.4547\n",
      "Epoch 3/200\n",
      "11073/11073 [==============================] - 0s 14us/step - loss: 0.4759 - val_loss: 0.3897\n",
      "Epoch 4/200\n",
      "11073/11073 [==============================] - 0s 14us/step - loss: 0.3196 - val_loss: 0.3581\n",
      "Epoch 5/200\n",
      "11073/11073 [==============================] - 0s 14us/step - loss: 0.2453 - val_loss: 0.3299\n",
      "Epoch 6/200\n",
      "11073/11073 [==============================] - 0s 14us/step - loss: 0.1999 - val_loss: 0.3130\n",
      "Epoch 7/200\n",
      "11073/11073 [==============================] - 0s 13us/step - loss: 0.1654 - val_loss: 0.2948\n",
      "Epoch 8/200\n",
      "11073/11073 [==============================] - 0s 13us/step - loss: 0.1395 - val_loss: 0.2834\n",
      "Epoch 9/200\n",
      "11073/11073 [==============================] - 0s 13us/step - loss: 0.1189 - val_loss: 0.2795\n",
      "Epoch 10/200\n",
      "11073/11073 [==============================] - 0s 14us/step - loss: 0.1027 - val_loss: 0.2794\n",
      "Epoch 11/200\n",
      "11073/11073 [==============================] - 0s 13us/step - loss: 0.0895 - val_loss: 0.2787\n",
      "Epoch 12/200\n",
      "11073/11073 [==============================] - 0s 13us/step - loss: 0.0792 - val_loss: 0.2765\n",
      "Epoch 13/200\n",
      "11073/11073 [==============================] - 0s 14us/step - loss: 0.0708 - val_loss: 0.2737\n",
      "Epoch 14/200\n",
      "11073/11073 [==============================] - 0s 13us/step - loss: 0.0644 - val_loss: 0.2721\n",
      "Epoch 15/200\n",
      "11073/11073 [==============================] - 0s 13us/step - loss: 0.0590 - val_loss: 0.2701\n",
      "Epoch 16/200\n",
      "11073/11073 [==============================] - 0s 13us/step - loss: 0.0545 - val_loss: 0.2669\n",
      "Epoch 17/200\n",
      "11073/11073 [==============================] - 0s 12us/step - loss: 0.0508 - val_loss: 0.2627\n",
      "Epoch 18/200\n",
      "11073/11073 [==============================] - 0s 10us/step - loss: 0.0478 - val_loss: 0.2600\n",
      "Epoch 19/200\n",
      "11073/11073 [==============================] - 0s 13us/step - loss: 0.0452 - val_loss: 0.2548\n",
      "Epoch 20/200\n",
      "11073/11073 [==============================] - 0s 13us/step - loss: 0.0427 - val_loss: 0.2512\n",
      "Epoch 21/200\n",
      "11073/11073 [==============================] - 0s 14us/step - loss: 0.0403 - val_loss: 0.2465\n",
      "Epoch 22/200\n",
      "11073/11073 [==============================] - 0s 13us/step - loss: 0.0381 - val_loss: 0.2424\n",
      "Epoch 23/200\n",
      "11073/11073 [==============================] - 0s 10us/step - loss: 0.0362 - val_loss: 0.2409\n",
      "Epoch 24/200\n",
      "11073/11073 [==============================] - 0s 14us/step - loss: 0.0343 - val_loss: 0.2357\n",
      "Epoch 25/200\n",
      "11073/11073 [==============================] - 0s 13us/step - loss: 0.0328 - val_loss: 0.2329\n",
      "Epoch 26/200\n",
      "11073/11073 [==============================] - 0s 12us/step - loss: 0.0314 - val_loss: 0.2297\n",
      "Epoch 27/200\n",
      "11073/11073 [==============================] - 0s 9us/step - loss: 0.0300 - val_loss: 0.2271\n",
      "Epoch 28/200\n",
      "11073/11073 [==============================] - 0s 13us/step - loss: 0.0283 - val_loss: 0.2240\n",
      "Epoch 29/200\n",
      "11073/11073 [==============================] - 0s 14us/step - loss: 0.0273 - val_loss: 0.2205\n",
      "Epoch 30/200\n",
      "11073/11073 [==============================] - 0s 10us/step - loss: 0.0264 - val_loss: 0.2197\n",
      "Epoch 31/200\n",
      "11073/11073 [==============================] - 0s 11us/step - loss: 0.0256 - val_loss: 0.2164\n",
      "Epoch 32/200\n",
      "11073/11073 [==============================] - 0s 14us/step - loss: 0.0246 - val_loss: 0.2149\n",
      "Epoch 33/200\n",
      "11073/11073 [==============================] - 0s 13us/step - loss: 0.0237 - val_loss: 0.2125\n",
      "Epoch 34/200\n",
      "11073/11073 [==============================] - 0s 13us/step - loss: 0.0228 - val_loss: 0.2099\n",
      "Epoch 35/200\n",
      "11073/11073 [==============================] - 0s 9us/step - loss: 0.0222 - val_loss: 0.2087\n",
      "Epoch 36/200\n",
      "11073/11073 [==============================] - 0s 14us/step - loss: 0.0215 - val_loss: 0.2059\n",
      "Epoch 37/200\n",
      "11073/11073 [==============================] - 0s 10us/step - loss: 0.0208 - val_loss: 0.2035\n",
      "Epoch 38/200\n",
      "11073/11073 [==============================] - 0s 11us/step - loss: 0.0202 - val_loss: 0.2018\n",
      "Epoch 39/200\n",
      "11073/11073 [==============================] - 0s 13us/step - loss: 0.0195 - val_loss: 0.2004\n",
      "Epoch 40/200\n",
      "11073/11073 [==============================] - 0s 14us/step - loss: 0.0188 - val_loss: 0.1979\n",
      "Epoch 41/200\n",
      "11073/11073 [==============================] - 0s 12us/step - loss: 0.0187 - val_loss: 0.1976\n",
      "Epoch 42/200\n",
      "11073/11073 [==============================] - 0s 8us/step - loss: 0.0181 - val_loss: 0.1939\n",
      "Epoch 43/200\n",
      "11073/11073 [==============================] - 0s 9us/step - loss: 0.0174 - val_loss: 0.1935\n",
      "Epoch 44/200\n",
      "11073/11073 [==============================] - 0s 13us/step - loss: 0.0174 - val_loss: 0.1916\n",
      "Epoch 45/200\n",
      "11073/11073 [==============================] - 0s 14us/step - loss: 0.0165 - val_loss: 0.1924\n",
      "Epoch 46/200\n",
      "11073/11073 [==============================] - 0s 12us/step - loss: 0.0163 - val_loss: 0.1901\n",
      "Epoch 47/200\n",
      "11073/11073 [==============================] - 0s 14us/step - loss: 0.0159 - val_loss: 0.1879\n",
      "Epoch 48/200\n",
      "11073/11073 [==============================] - 0s 13us/step - loss: 0.0155 - val_loss: 0.1884\n",
      "Epoch 49/200\n",
      "11073/11073 [==============================] - 0s 10us/step - loss: 0.0170 - val_loss: 0.1874\n",
      "Epoch 50/200\n",
      "11073/11073 [==============================] - 0s 11us/step - loss: 0.0154 - val_loss: 0.1858\n",
      "Epoch 51/200\n",
      "11073/11073 [==============================] - 0s 13us/step - loss: 0.0168 - val_loss: 0.1864\n",
      "Epoch 52/200\n",
      "11073/11073 [==============================] - 0s 13us/step - loss: 0.0182 - val_loss: 0.1856\n",
      "Epoch 53/200\n",
      "11073/11073 [==============================] - 0s 9us/step - loss: 0.0186 - val_loss: 0.1806\n",
      "Epoch 54/200\n",
      "11073/11073 [==============================] - 0s 9us/step - loss: 0.0152 - val_loss: 0.1825\n",
      "Epoch 55/200\n",
      "11073/11073 [==============================] - 0s 9us/step - loss: 0.0142 - val_loss: 0.1814\n",
      "Epoch 56/200\n",
      "11073/11073 [==============================] - 0s 11us/step - loss: 0.0145 - val_loss: 0.1819\n",
      "Epoch 57/200\n",
      "11073/11073 [==============================] - 0s 14us/step - loss: 0.0131 - val_loss: 0.1795\n",
      "Epoch 58/200\n",
      "11073/11073 [==============================] - 0s 11us/step - loss: 0.0123 - val_loss: 0.1796\n",
      "Epoch 59/200\n",
      "11073/11073 [==============================] - 0s 9us/step - loss: 0.0119 - val_loss: 0.1802\n",
      "Epoch 60/200\n",
      "11073/11073 [==============================] - 0s 9us/step - loss: 0.0118 - val_loss: 0.1788\n",
      "Epoch 61/200\n",
      "11073/11073 [==============================] - 0s 13us/step - loss: 0.0114 - val_loss: 0.1777\n",
      "Epoch 62/200\n",
      "11073/11073 [==============================] - 0s 14us/step - loss: 0.0113 - val_loss: 0.1770\n",
      "Epoch 63/200\n",
      "11073/11073 [==============================] - 0s 10us/step - loss: 0.0111 - val_loss: 0.1774\n",
      "Epoch 64/200\n",
      "11073/11073 [==============================] - 0s 13us/step - loss: 0.0109 - val_loss: 0.1776\n",
      "Epoch 65/200\n",
      "11073/11073 [==============================] - 0s 10us/step - loss: 0.0106 - val_loss: 0.1768\n",
      "Epoch 66/200\n",
      "11073/11073 [==============================] - 0s 12us/step - loss: 0.0105 - val_loss: 0.1758\n",
      "Epoch 67/200\n",
      "11073/11073 [==============================] - 0s 14us/step - loss: 0.0102 - val_loss: 0.1751\n",
      "Epoch 68/200\n",
      "11073/11073 [==============================] - 0s 13us/step - loss: 0.0101 - val_loss: 0.1747\n",
      "Epoch 69/200\n",
      "11073/11073 [==============================] - 0s 11us/step - loss: 0.0099 - val_loss: 0.1742\n",
      "Epoch 70/200\n",
      "11073/11073 [==============================] - 0s 13us/step - loss: 0.0097 - val_loss: 0.1740\n",
      "Epoch 71/200\n",
      "11073/11073 [==============================] - 0s 12us/step - loss: 0.0096 - val_loss: 0.1730\n",
      "Epoch 72/200\n",
      "11073/11073 [==============================] - 0s 9us/step - loss: 0.0095 - val_loss: 0.1740\n",
      "Epoch 73/200\n",
      "11073/11073 [==============================] - 0s 10us/step - loss: 0.0096 - val_loss: 0.1723\n",
      "Epoch 74/200\n",
      "11073/11073 [==============================] - 0s 14us/step - loss: 0.0096 - val_loss: 0.1723\n",
      "Epoch 75/200\n",
      "11073/11073 [==============================] - 0s 13us/step - loss: 0.0091 - val_loss: 0.1736\n",
      "Epoch 76/200\n",
      "11073/11073 [==============================] - 0s 13us/step - loss: 0.0089 - val_loss: 0.1727\n",
      "Epoch 77/200\n"
     ]
    },
    {
     "name": "stdout",
     "output_type": "stream",
     "text": [
      "11073/11073 [==============================] - 0s 13us/step - loss: 0.0089 - val_loss: 0.1725\n",
      "Epoch 78/200\n",
      "11073/11073 [==============================] - 0s 12us/step - loss: 0.0086 - val_loss: 0.1712\n",
      "Epoch 79/200\n",
      "11073/11073 [==============================] - 0s 13us/step - loss: 0.0084 - val_loss: 0.1707\n",
      "Epoch 80/200\n",
      "11073/11073 [==============================] - 0s 13us/step - loss: 0.0082 - val_loss: 0.1703\n",
      "Epoch 81/200\n",
      "11073/11073 [==============================] - 0s 13us/step - loss: 0.0080 - val_loss: 0.1708\n",
      "Epoch 82/200\n",
      "11073/11073 [==============================] - 0s 13us/step - loss: 0.0079 - val_loss: 0.1699\n",
      "Epoch 83/200\n",
      "11073/11073 [==============================] - 0s 13us/step - loss: 0.0078 - val_loss: 0.1692\n",
      "Epoch 84/200\n",
      "11073/11073 [==============================] - 0s 13us/step - loss: 0.0077 - val_loss: 0.1697\n",
      "Epoch 85/200\n",
      "11073/11073 [==============================] - 0s 13us/step - loss: 0.0076 - val_loss: 0.1699\n",
      "Epoch 86/200\n",
      "11073/11073 [==============================] - 0s 13us/step - loss: 0.0075 - val_loss: 0.1680\n",
      "Epoch 87/200\n",
      "11073/11073 [==============================] - 0s 13us/step - loss: 0.0076 - val_loss: 0.1697\n",
      "Epoch 88/200\n",
      "11073/11073 [==============================] - 0s 13us/step - loss: 0.0074 - val_loss: 0.1681\n",
      "Epoch 89/200\n",
      "11073/11073 [==============================] - 0s 13us/step - loss: 0.0077 - val_loss: 0.1680\n",
      "Epoch 90/200\n",
      "11073/11073 [==============================] - 0s 14us/step - loss: 0.0077 - val_loss: 0.1682\n",
      "Epoch 91/200\n",
      "11073/11073 [==============================] - 0s 13us/step - loss: 0.0072 - val_loss: 0.1668\n",
      "Epoch 92/200\n",
      "11073/11073 [==============================] - 0s 12us/step - loss: 0.0070 - val_loss: 0.1673\n",
      "Epoch 93/200\n",
      "11073/11073 [==============================] - 0s 13us/step - loss: 0.0071 - val_loss: 0.1660\n",
      "Epoch 94/200\n",
      "11073/11073 [==============================] - 0s 13us/step - loss: 0.0070 - val_loss: 0.1680\n",
      "Epoch 95/200\n",
      "11073/11073 [==============================] - 0s 13us/step - loss: 0.0068 - val_loss: 0.1660\n",
      "Epoch 96/200\n",
      "11073/11073 [==============================] - 0s 12us/step - loss: 0.0068 - val_loss: 0.1659\n",
      "Epoch 97/200\n",
      "11073/11073 [==============================] - 0s 10us/step - loss: 0.0070 - val_loss: 0.1656\n",
      "Epoch 98/200\n",
      "11073/11073 [==============================] - 0s 8us/step - loss: 0.0067 - val_loss: 0.1646\n",
      "Epoch 99/200\n",
      "11073/11073 [==============================] - 0s 13us/step - loss: 0.0069 - val_loss: 0.1642\n",
      "Epoch 100/200\n",
      "11073/11073 [==============================] - 0s 13us/step - loss: 0.0071 - val_loss: 0.1660\n",
      "Epoch 101/200\n",
      "11073/11073 [==============================] - 0s 13us/step - loss: 0.0071 - val_loss: 0.1659\n",
      "Epoch 102/200\n",
      "11073/11073 [==============================] - 0s 13us/step - loss: 0.0068 - val_loss: 0.1640\n",
      "Epoch 103/200\n",
      "11073/11073 [==============================] - 0s 10us/step - loss: 0.0071 - val_loss: 0.1668\n",
      "Epoch 104/200\n",
      "11073/11073 [==============================] - 0s 10us/step - loss: 0.0071 - val_loss: 0.1618\n",
      "Epoch 105/200\n",
      "11073/11073 [==============================] - 0s 13us/step - loss: 0.0071 - val_loss: 0.1628\n",
      "Epoch 106/200\n",
      "11073/11073 [==============================] - 0s 13us/step - loss: 0.0067 - val_loss: 0.1656\n",
      "Epoch 107/200\n",
      "11073/11073 [==============================] - 0s 10us/step - loss: 0.0067 - val_loss: 0.1647\n",
      "Epoch 108/200\n",
      "11073/11073 [==============================] - 0s 11us/step - loss: 0.0060 - val_loss: 0.1638\n",
      "Epoch 109/200\n",
      "11073/11073 [==============================] - 0s 13us/step - loss: 0.0060 - val_loss: 0.1633\n",
      "Epoch 110/200\n",
      "11073/11073 [==============================] - 0s 13us/step - loss: 0.0059 - val_loss: 0.1623\n",
      "\n",
      "Epoch 00110: ReduceLROnPlateau reducing learning rate to 0.00020000000949949026.\n",
      "Epoch 111/200\n",
      "11073/11073 [==============================] - 0s 10us/step - loss: 0.0057 - val_loss: 0.1627\n",
      "Epoch 112/200\n",
      "11073/11073 [==============================] - 0s 10us/step - loss: 0.0055 - val_loss: 0.1623\n",
      "Epoch 113/200\n",
      "11073/11073 [==============================] - 0s 13us/step - loss: 0.0055 - val_loss: 0.1627\n",
      "Epoch 114/200\n",
      "11073/11073 [==============================] - 0s 13us/step - loss: 0.0055 - val_loss: 0.1624\n",
      "Epoch 115/200\n",
      "11073/11073 [==============================] - 0s 12us/step - loss: 0.0055 - val_loss: 0.1623\n",
      "\n",
      "Epoch 00115: ReduceLROnPlateau reducing learning rate to 4.0000001899898055e-05.\n",
      "Epoch 116/200\n",
      "11073/11073 [==============================] - 0s 13us/step - loss: 0.0054 - val_loss: 0.1623\n",
      "Epoch 117/200\n",
      "11073/11073 [==============================] - 0s 14us/step - loss: 0.0054 - val_loss: 0.1623\n",
      "Epoch 118/200\n",
      "11073/11073 [==============================] - 0s 10us/step - loss: 0.0054 - val_loss: 0.1622\n",
      "Epoch 119/200\n",
      "11073/11073 [==============================] - 0s 9us/step - loss: 0.0054 - val_loss: 0.1623\n",
      "Epoch 120/200\n",
      "11073/11073 [==============================] - 0s 11us/step - loss: 0.0054 - val_loss: 0.1623\n",
      "\n",
      "Epoch 00120: ReduceLROnPlateau reducing learning rate to 8.000000525498762e-06.\n",
      "Epoch 121/200\n",
      "11073/11073 [==============================] - 0s 14us/step - loss: 0.0054 - val_loss: 0.1623\n",
      "Epoch 122/200\n",
      "11073/11073 [==============================] - 0s 13us/step - loss: 0.0054 - val_loss: 0.1623\n",
      "Epoch 123/200\n",
      "11073/11073 [==============================] - 0s 13us/step - loss: 0.0054 - val_loss: 0.1623\n",
      "Epoch 124/200\n",
      "11073/11073 [==============================] - 0s 14us/step - loss: 0.0054 - val_loss: 0.1623\n",
      "Epoch 125/200\n",
      "11073/11073 [==============================] - 0s 13us/step - loss: 0.0054 - val_loss: 0.1622\n",
      "\n",
      "Epoch 00125: ReduceLROnPlateau reducing learning rate to 1.6000001778593287e-06.\n",
      "Epoch 126/200\n",
      "11073/11073 [==============================] - 0s 13us/step - loss: 0.0054 - val_loss: 0.1622\n",
      "Epoch 127/200\n",
      "11073/11073 [==============================] - 0s 13us/step - loss: 0.0054 - val_loss: 0.1622\n",
      "Epoch 128/200\n",
      "11073/11073 [==============================] - 0s 13us/step - loss: 0.0054 - val_loss: 0.1622\n",
      "Epoch 129/200\n",
      "11073/11073 [==============================] - 0s 13us/step - loss: 0.0054 - val_loss: 0.1622\n",
      "Epoch 130/200\n",
      "11073/11073 [==============================] - 0s 11us/step - loss: 0.0054 - val_loss: 0.1622\n",
      "\n",
      "Epoch 00130: ReduceLROnPlateau reducing learning rate to 3.200000264769187e-07.\n",
      "Epoch 131/200\n",
      "11073/11073 [==============================] - 0s 10us/step - loss: 0.0054 - val_loss: 0.1622\n",
      "Epoch 132/200\n",
      "11073/11073 [==============================] - 0s 13us/step - loss: 0.0054 - val_loss: 0.1622\n",
      "Epoch 133/200\n",
      "11073/11073 [==============================] - 0s 12us/step - loss: 0.0054 - val_loss: 0.1622\n",
      "Epoch 134/200\n",
      "11073/11073 [==============================] - 0s 13us/step - loss: 0.0054 - val_loss: 0.1622\n",
      "Epoch 135/200\n",
      "11073/11073 [==============================] - 0s 13us/step - loss: 0.0054 - val_loss: 0.1622\n",
      "\n",
      "Epoch 00135: ReduceLROnPlateau reducing learning rate to 6.400000529538374e-08.\n",
      "Epoch 136/200\n",
      "11073/11073 [==============================] - 0s 13us/step - loss: 0.0054 - val_loss: 0.1622\n",
      "Epoch 137/200\n",
      "11073/11073 [==============================] - 0s 13us/step - loss: 0.0054 - val_loss: 0.1622\n",
      "Epoch 138/200\n",
      "11073/11073 [==============================] - 0s 13us/step - loss: 0.0054 - val_loss: 0.1622\n",
      "Epoch 139/200\n",
      "11073/11073 [==============================] - 0s 12us/step - loss: 0.0054 - val_loss: 0.1622\n",
      "Epoch 140/200\n",
      "11073/11073 [==============================] - 0s 13us/step - loss: 0.0054 - val_loss: 0.1622\n",
      "\n",
      "Epoch 00140: ReduceLROnPlateau reducing learning rate to 1.2800001059076749e-08.\n",
      "Epoch 141/200\n",
      "11073/11073 [==============================] - 0s 13us/step - loss: 0.0054 - val_loss: 0.1622\n",
      "Epoch 142/200\n",
      "11073/11073 [==============================] - 0s 13us/step - loss: 0.0054 - val_loss: 0.1622\n",
      "Epoch 143/200\n",
      "11073/11073 [==============================] - 0s 13us/step - loss: 0.0054 - val_loss: 0.1622\n",
      "Epoch 144/200\n",
      "11073/11073 [==============================] - 0s 9us/step - loss: 0.0054 - val_loss: 0.1622\n",
      "Epoch 145/200\n",
      "11073/11073 [==============================] - 0s 13us/step - loss: 0.0054 - val_loss: 0.1622\n",
      "\n",
      "Epoch 00145: ReduceLROnPlateau reducing learning rate to 2.5600002118153498e-09.\n",
      "Epoch 146/200\n",
      "11073/11073 [==============================] - 0s 13us/step - loss: 0.0054 - val_loss: 0.1622\n",
      "Epoch 147/200\n"
     ]
    },
    {
     "name": "stdout",
     "output_type": "stream",
     "text": [
      "11073/11073 [==============================] - 0s 14us/step - loss: 0.0054 - val_loss: 0.1622\n",
      "Epoch 148/200\n",
      "11073/11073 [==============================] - 0s 13us/step - loss: 0.0054 - val_loss: 0.1622\n",
      "Epoch 149/200\n",
      "11073/11073 [==============================] - 0s 13us/step - loss: 0.0054 - val_loss: 0.1622\n",
      "Epoch 150/200\n",
      "11073/11073 [==============================] - 0s 12us/step - loss: 0.0054 - val_loss: 0.1622\n",
      "\n",
      "Epoch 00150: ReduceLROnPlateau reducing learning rate to 5.1200004236307e-10.\n",
      "Epoch 151/200\n",
      "11073/11073 [==============================] - 0s 13us/step - loss: 0.0054 - val_loss: 0.1622\n",
      "Epoch 152/200\n",
      "11073/11073 [==============================] - 0s 13us/step - loss: 0.0054 - val_loss: 0.1622\n",
      "Epoch 153/200\n",
      "11073/11073 [==============================] - 0s 13us/step - loss: 0.0054 - val_loss: 0.1622\n",
      "Epoch 154/200\n",
      "11073/11073 [==============================] - 0s 13us/step - loss: 0.0054 - val_loss: 0.1622\n",
      "Epoch 155/200\n",
      "11073/11073 [==============================] - 0s 13us/step - loss: 0.0054 - val_loss: 0.1622\n",
      "\n",
      "Epoch 00155: ReduceLROnPlateau reducing learning rate to 1.0240001069306004e-10.\n",
      "Epoch 156/200\n",
      "11073/11073 [==============================] - 0s 13us/step - loss: 0.0054 - val_loss: 0.1622\n",
      "Epoch 157/200\n",
      "11073/11073 [==============================] - 0s 13us/step - loss: 0.0054 - val_loss: 0.1622\n",
      "Epoch 158/200\n",
      "11073/11073 [==============================] - 0s 13us/step - loss: 0.0054 - val_loss: 0.1622\n",
      "Epoch 159/200\n",
      "11073/11073 [==============================] - 0s 13us/step - loss: 0.0054 - val_loss: 0.1622\n",
      "Epoch 160/200\n",
      "11073/11073 [==============================] - 0s 13us/step - loss: 0.0054 - val_loss: 0.1622\n",
      "\n",
      "Epoch 00160: ReduceLROnPlateau reducing learning rate to 2.0480002416167767e-11.\n",
      "Epoch 161/200\n",
      "11073/11073 [==============================] - 0s 13us/step - loss: 0.0054 - val_loss: 0.1622\n",
      "Epoch 162/200\n",
      "11073/11073 [==============================] - 0s 13us/step - loss: 0.0054 - val_loss: 0.1622\n",
      "Epoch 163/200\n",
      "11073/11073 [==============================] - 0s 13us/step - loss: 0.0054 - val_loss: 0.1622\n",
      "Epoch 164/200\n",
      "11073/11073 [==============================] - 0s 13us/step - loss: 0.0054 - val_loss: 0.1622\n",
      "Epoch 165/200\n",
      "11073/11073 [==============================] - 0s 12us/step - loss: 0.0054 - val_loss: 0.1622\n",
      "\n",
      "Epoch 00165: ReduceLROnPlateau reducing learning rate to 4.096000622011431e-12.\n",
      "Epoch 166/200\n",
      "11073/11073 [==============================] - 0s 14us/step - loss: 0.0054 - val_loss: 0.1622\n",
      "Epoch 167/200\n",
      "11073/11073 [==============================] - 0s 13us/step - loss: 0.0054 - val_loss: 0.1622\n",
      "Epoch 168/200\n",
      "11073/11073 [==============================] - 0s 14us/step - loss: 0.0054 - val_loss: 0.1622\n",
      "Epoch 169/200\n",
      "11073/11073 [==============================] - 0s 10us/step - loss: 0.0054 - val_loss: 0.1622\n",
      "Epoch 170/200\n",
      "11073/11073 [==============================] - 0s 13us/step - loss: 0.0054 - val_loss: 0.1622\n",
      "\n",
      "Epoch 00170: ReduceLROnPlateau reducing learning rate to 8.192000897078167e-13.\n",
      "Epoch 171/200\n",
      "11073/11073 [==============================] - 0s 13us/step - loss: 0.0054 - val_loss: 0.1622\n",
      "Epoch 172/200\n",
      "11073/11073 [==============================] - 0s 14us/step - loss: 0.0054 - val_loss: 0.1622\n",
      "Epoch 173/200\n",
      "11073/11073 [==============================] - 0s 13us/step - loss: 0.0054 - val_loss: 0.1622\n",
      "Epoch 174/200\n",
      "11073/11073 [==============================] - 0s 13us/step - loss: 0.0054 - val_loss: 0.1622\n",
      "Epoch 175/200\n",
      "11073/11073 [==============================] - 0s 13us/step - loss: 0.0054 - val_loss: 0.1622\n",
      "\n",
      "Epoch 00175: ReduceLROnPlateau reducing learning rate to 1.6384001360475466e-13.\n",
      "Epoch 176/200\n",
      "11073/11073 [==============================] - 0s 14us/step - loss: 0.0054 - val_loss: 0.1622\n",
      "Epoch 177/200\n",
      "11073/11073 [==============================] - 0s 12us/step - loss: 0.0054 - val_loss: 0.1622\n",
      "Epoch 178/200\n",
      "11073/11073 [==============================] - 0s 14us/step - loss: 0.0054 - val_loss: 0.1622\n",
      "Epoch 179/200\n",
      "11073/11073 [==============================] - 0s 14us/step - loss: 0.0054 - val_loss: 0.1622\n",
      "Epoch 180/200\n",
      "11073/11073 [==============================] - 0s 14us/step - loss: 0.0054 - val_loss: 0.1622\n",
      "\n",
      "Epoch 00180: ReduceLROnPlateau reducing learning rate to 3.2768002178849846e-14.\n",
      "Epoch 181/200\n",
      "11073/11073 [==============================] - 0s 13us/step - loss: 0.0054 - val_loss: 0.1622\n",
      "Epoch 182/200\n",
      "11073/11073 [==============================] - 0s 11us/step - loss: 0.0054 - val_loss: 0.1622\n",
      "Epoch 183/200\n",
      "11073/11073 [==============================] - 0s 12us/step - loss: 0.0054 - val_loss: 0.1622\n",
      "Epoch 184/200\n",
      "11073/11073 [==============================] - 0s 13us/step - loss: 0.0054 - val_loss: 0.1622\n",
      "Epoch 185/200\n",
      "11073/11073 [==============================] - 0s 13us/step - loss: 0.0054 - val_loss: 0.1622\n",
      "\n",
      "Epoch 00185: ReduceLROnPlateau reducing learning rate to 6.553600300244697e-15.\n",
      "Epoch 186/200\n",
      "11073/11073 [==============================] - 0s 13us/step - loss: 0.0054 - val_loss: 0.1622\n",
      "Epoch 187/200\n",
      "11073/11073 [==============================] - 0s 14us/step - loss: 0.0054 - val_loss: 0.1622\n",
      "Epoch 188/200\n",
      "11073/11073 [==============================] - 0s 11us/step - loss: 0.0054 - val_loss: 0.1622\n",
      "Epoch 189/200\n",
      "11073/11073 [==============================] - 0s 14us/step - loss: 0.0054 - val_loss: 0.1622\n",
      "Epoch 190/200\n",
      "11073/11073 [==============================] - 0s 11us/step - loss: 0.0054 - val_loss: 0.1622\n",
      "\n",
      "Epoch 00190: ReduceLROnPlateau reducing learning rate to 1.3107200431082805e-15.\n",
      "Epoch 191/200\n",
      "11073/11073 [==============================] - 0s 11us/step - loss: 0.0054 - val_loss: 0.1622\n",
      "Epoch 192/200\n",
      "11073/11073 [==============================] - 0s 11us/step - loss: 0.0054 - val_loss: 0.1622\n",
      "Epoch 193/200\n",
      "11073/11073 [==============================] - 0s 13us/step - loss: 0.0054 - val_loss: 0.1622\n",
      "Epoch 194/200\n",
      "11073/11073 [==============================] - 0s 13us/step - loss: 0.0054 - val_loss: 0.1622\n",
      "Epoch 195/200\n",
      "11073/11073 [==============================] - 0s 11us/step - loss: 0.0054 - val_loss: 0.1622\n",
      "\n",
      "Epoch 00195: ReduceLROnPlateau reducing learning rate to 2.6214401285682084e-16.\n",
      "Epoch 196/200\n",
      "11073/11073 [==============================] - 0s 13us/step - loss: 0.0054 - val_loss: 0.1622\n",
      "Epoch 197/200\n",
      "11073/11073 [==============================] - 0s 13us/step - loss: 0.0054 - val_loss: 0.1622\n",
      "Epoch 198/200\n",
      "11073/11073 [==============================] - 0s 13us/step - loss: 0.0054 - val_loss: 0.1622\n",
      "Epoch 199/200\n",
      "11073/11073 [==============================] - 0s 13us/step - loss: 0.0054 - val_loss: 0.1622\n",
      "Epoch 200/200\n",
      "11073/11073 [==============================] - 0s 13us/step - loss: 0.0054 - val_loss: 0.1622\n",
      "\n",
      "Epoch 00200: ReduceLROnPlateau reducing learning rate to 5.2428803630155353e-17.\n"
     ]
    }
   ],
   "source": [
    "from keras.callbacks import EarlyStopping, ReduceLROnPlateau\n",
    "\n",
    "reduce =  ReduceLROnPlateau(patience=5, factor=0.2, verbose=1)\n",
    "\n",
    "history = model.fit(train_x, train_x, \n",
    "                    batch_size=512, epochs=200, \n",
    "                    validation_data=(test_x,test_x), \n",
    "                    callbacks=[reduce])"
   ]
  },
  {
   "cell_type": "code",
   "execution_count": 18,
   "metadata": {},
   "outputs": [
    {
     "data": {
      "image/png": "[encoded data removed]",
      "text/plain": [
       "<Figure size 432x288 with 1 Axes>"
      ]
     },
     "metadata": {},
     "output_type": "display_data"
    }
   ],
   "source": [
    "plotit(history, show_all=False)"
   ]
  },
  {
   "cell_type": "code",
   "execution_count": 19,
   "metadata": {},
   "outputs": [],
   "source": [
    "infected = pd.read_csv('input/data_infected_direct.csv', parse_dates=['start_time']).sort_values('start_time').drop('start_time', axis=1)\n",
    "infected.fillna(0, inplace=True)\n",
    "infected_x = scaler.transform(infected[num_cols])"
   ]
  },
  {
   "cell_type": "code",
   "execution_count": 20,
   "metadata": {},
   "outputs": [],
   "source": [
    "after = pd.read_csv('input/data_after_direct.csv', parse_dates=['start_time']).sort_values('start_time').drop('start_time', axis=1)\n",
    "after.fillna(0, inplace=True)\n",
    "after_x = scaler.transform(after[num_cols])"
   ]
  },
  {
   "cell_type": "code",
   "execution_count": 21,
   "metadata": {},
   "outputs": [],
   "source": [
    "train_pred = model.predict(train_x)"
   ]
  },
  {
   "cell_type": "code",
   "execution_count": 22,
   "metadata": {},
   "outputs": [],
   "source": [
    "test_pred = model.predict(test_x)"
   ]
  },
  {
   "cell_type": "code",
   "execution_count": 23,
   "metadata": {},
   "outputs": [],
   "source": [
    "i_pred = model.predict(infected_x)"
   ]
  },
  {
   "cell_type": "code",
   "execution_count": 24,
   "metadata": {},
   "outputs": [],
   "source": [
    "a_pred = model.predict(after_x)"
   ]
  },
  {
   "cell_type": "code",
   "execution_count": 25,
   "metadata": {},
   "outputs": [
    {
     "name": "stdout",
     "output_type": "stream",
     "text": [
      "0.005426829502052008\n",
      "0.16224110921090018\n",
      "0.21451372839156727\n",
      "0.028856161346782143\n"
     ]
    }
   ],
   "source": [
    "train_error = ((train_x - train_pred) ** 2).mean(axis=-1) \n",
    "print(train_error.mean())\n",
    "test_error = ((test_x - test_pred) ** 2).mean(axis=-1) \n",
    "print(test_error.mean())\n",
    "infected_error = ((infected_x - i_pred) ** 2).mean(axis=-1)\n",
    "print(infected_error.mean())\n",
    "after_error = ((after_x - a_pred) ** 2).mean(axis=-1)\n",
    "print(after_error.mean())\n"
   ]
  },
  {
   "cell_type": "code",
   "execution_count": 26,
   "metadata": {},
   "outputs": [
    {
     "name": "stdout",
     "output_type": "stream",
     "text": [
      "(52373,)\n"
     ]
    }
   ],
   "source": [
    "errors = np.concatenate([train_error, test_error, infected_error, after_error])\n",
    "print(errors.shape)"
   ]
  },
  {
   "cell_type": "code",
   "execution_count": 27,
   "metadata": {},
   "outputs": [],
   "source": [
    "def running_mean(x, N):\n",
    "    cumsum = np.cumsum(np.insert(x, 0, 0)) \n",
    "    return (cumsum[N:] - cumsum[:-N]) / float(N)"
   ]
  },
  {
   "cell_type": "code",
   "execution_count": 35,
   "metadata": {},
   "outputs": [
    {
     "data": {
      "image/png": "[encoded data removed]",
      "text/plain": [
       "<Figure size 432x288 with 1 Axes>"
      ]
     },
     "metadata": {},
     "output_type": "display_data"
    }
   ],
   "source": [
    "train_line = len(train_x)\n",
    "infected_line = len(train_x) + len(test_x)\n",
    "after_line = len(train_x) + len(test_x) + len(infected_x)\n",
    "plt.plot(running_mean((errors>0.42).astype(int), 50)) #plot de errores que superan el limite\n",
    "plt.plot(running_mean(errors, 200))  #plot del mse \n",
    "plt.title('Errores sobre el limite')\n",
    "plt.axvline(x=train_line, color='green')\n",
    "plt.axvline(x=infected_line, color='red')\n",
    "plt.axvline(x=after_line, color='red')\n",
    "plt.ylabel('mean squared error')\n",
    "plt.xlabel('Tiempo')\n",
    "plt.legend(['Threshold','MSE Error', ])\n",
    "plt.show()"
   ]
  },
  {
   "cell_type": "code",
   "execution_count": 29,
   "metadata": {},
   "outputs": [
    {
     "data": {
      "text/plain": [
       "(0.0, 0.0, 0.12925493930016663, 0.0032448719434465174)"
      ]
     },
     "execution_count": 29,
     "metadata": {},
     "output_type": "execute_result"
    }
   ],
   "source": [
    "((train_error > 0.42).astype(int).mean(),\n",
    "(test_error > 0.42).astype(int).mean(),\n",
    "(infected_error > 0.42).astype(int).mean(),\n",
    "(after_error > 0.42).astype(int).mean())"
   ]
  },
  {
   "cell_type": "code",
   "execution_count": 30,
   "metadata": {},
   "outputs": [
    {
     "data": {
      "text/plain": [
       "(0.003540218610719827,\n",
       " 0.14663291573207315,\n",
       " 0.046873226356429855,\n",
       " 0.009526132483929167)"
      ]
     },
     "execution_count": 30,
     "metadata": {},
     "output_type": "execute_result"
    }
   ],
   "source": [
    "(np.median(train_error),\n",
    "np.median(test_error),\n",
    "np.median(infected_error),\n",
    "np.median(after_error))"
   ]
  },
  {
   "cell_type": "code",
   "execution_count": 31,
   "metadata": {},
   "outputs": [
    {
     "data": {
      "text/plain": [
       "(0.003540218610719827,\n",
       " 0.14663291573207315,\n",
       " 0.046873226356429855,\n",
       " 0.009526132483929167)"
      ]
     },
     "execution_count": 31,
     "metadata": {},
     "output_type": "execute_result"
    }
   ],
   "source": [
    "(np.median(train_error),\n",
    "np.median(test_error),\n",
    "np.median(infected_error),\n",
    "np.median(after_error))"
   ]
  },
  {
   "cell_type": "code",
   "execution_count": 33,
   "metadata": {},
   "outputs": [
    {
     "data": {
      "image/png": "[encoded data removed]",
      "text/plain": [
       "<Figure size 432x288 with 1 Axes>"
      ]
     },
     "metadata": {},
     "output_type": "display_data"
    }
   ],
   "source": [
    "import seaborn as sns\n",
    "sns.set(style=\"whitegrid\")\n",
    "all_arr = [test_error, infected_error, after_error]\n",
    "ax = sns.boxplot(data=all_arr)\n",
    "# ax = sns.boxplot(data=after_error)"
   ]
  },
  {
   "cell_type": "code",
   "execution_count": null,
   "metadata": {},
   "outputs": [],
   "source": []
  }
 ],
 "metadata": {
  "kernelspec": {
   "display_name": "Python 3",
   "language": "python",
   "name": "python3"
  },
  "language_info": {
   "codemirror_mode": {
    "name": "ipython",
    "version": 3
   },
   "file_extension": ".py",
   "mimetype": "text/x-python",
   "name": "python",
   "nbconvert_exporter": "python",
   "pygments_lexer": "ipython3",
   "version": "3.5.2"
  }
 },
 "nbformat": 4,
 "nbformat_minor": 2
}
